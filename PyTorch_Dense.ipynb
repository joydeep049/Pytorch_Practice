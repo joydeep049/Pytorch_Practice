{
  "nbformat": 4,
  "nbformat_minor": 0,
  "metadata": {
    "colab": {
      "provenance": [],
      "gpuType": "T4",
      "authorship_tag": "ABX9TyMdeYGbScxkEqA9ZpuILoW3",
      "include_colab_link": true
    },
    "kernelspec": {
      "name": "python3",
      "display_name": "Python 3"
    },
    "language_info": {
      "name": "python"
    },
    "accelerator": "GPU"
  },
  "cells": [
    {
      "cell_type": "markdown",
      "metadata": {
        "id": "view-in-github",
        "colab_type": "text"
      },
      "source": [
        "<a href=\"https://colab.research.google.com/github/joydeep049/Pytorch_Practice/blob/main/PyTorch_Dense.ipynb\" target=\"_parent\"><img src=\"https://colab.research.google.com/assets/colab-badge.svg\" alt=\"Open In Colab\"/></a>"
      ]
    },
    {
      "cell_type": "code",
      "execution_count": null,
      "metadata": {
        "colab": {
          "base_uri": "https://localhost:8080/",
          "height": 35
        },
        "id": "pl68uvQlZKG3",
        "outputId": "9c9303d8-595c-4361-a21e-03fd7961292a"
      },
      "outputs": [
        {
          "output_type": "execute_result",
          "data": {
            "text/plain": [
              "'2.8.0+cu126'"
            ],
            "application/vnd.google.colaboratory.intrinsic+json": {
              "type": "string"
            }
          },
          "metadata": {},
          "execution_count": 1
        }
      ],
      "source": [
        "import torch as t\n",
        "t.__version__"
      ]
    },
    {
      "cell_type": "markdown",
      "source": [
        "## Tensors\n",
        "\n",
        "*   A multi-dimensional matrix containing elements of a single data type.\n",
        "*   Similar to Numpy Arrays, but work better in GPU.\n",
        "*   default data type -> float32  \n",
        "*   More suitable for deep learning than numpy array\n",
        "\n",
        "\n",
        "\n"
      ],
      "metadata": {
        "id": "wXWHC-wuk_BY"
      }
    },
    {
      "cell_type": "code",
      "source": [
        "import torch\n",
        "import numpy as np\n",
        "from torch import nn\n",
        "from torch.utils.data import DataLoader\n",
        "from torchvision import datasets\n",
        "from torchvision.transforms import ToTensor"
      ],
      "metadata": {
        "id": "jiIccbBkcp-6"
      },
      "execution_count": 1,
      "outputs": []
    },
    {
      "cell_type": "code",
      "source": [
        "BATCH_SIZE = 64"
      ],
      "metadata": {
        "id": "fo2mkYUBRPgP"
      },
      "execution_count": 2,
      "outputs": []
    },
    {
      "cell_type": "code",
      "source": [
        " training_data = datasets.FashionMNIST(\n",
        "     root = \"data\",\n",
        "     train = True,\n",
        "     download = True,\n",
        "     transform = ToTensor(),\n",
        " )\n",
        "\n",
        " test_data = datasets.FashionMNIST(\n",
        "     root = \"data\",\n",
        "     train = False,\n",
        "     download = True,\n",
        "     transform = ToTensor(),\n",
        " )"
      ],
      "metadata": {
        "id": "cq6jPfw8m5D6",
        "colab": {
          "base_uri": "https://localhost:8080/"
        },
        "outputId": "d563966a-e6eb-42d4-ac96-603954f68ebc"
      },
      "execution_count": 3,
      "outputs": [
        {
          "output_type": "stream",
          "name": "stderr",
          "text": [
            "100%|██████████| 26.4M/26.4M [00:02<00:00, 9.89MB/s]\n",
            "100%|██████████| 29.5k/29.5k [00:00<00:00, 201kB/s]\n",
            "100%|██████████| 4.42M/4.42M [00:01<00:00, 3.67MB/s]\n",
            "100%|██████████| 5.15k/5.15k [00:00<00:00, 3.42MB/s]\n"
          ]
        }
      ]
    },
    {
      "cell_type": "code",
      "source": [
        "train_dataloader = DataLoader(training_data, batch_size = BATCH_SIZE)\n",
        "test_dataloader = DataLoader(test_data, batch_size = BATCH_SIZE)\n",
        "\n",
        "# for X,y in test_dataloader:\n",
        "#   print(f\"Shape of X is {X.shape}\")\n",
        "#   print(f\"Shape of Y is {y.shape}\")"
      ],
      "metadata": {
        "collapsed": true,
        "id": "k8oppelgRNVd"
      },
      "execution_count": 4,
      "outputs": []
    },
    {
      "cell_type": "code",
      "source": [
        "device = torch.cuda.current_device() if torch.cuda.is_available() else \"cpu\"\n",
        "\n",
        "print(f\"Using device {device}\")\n",
        "\n",
        "# model\n",
        "class NeuralNetwork(nn.Module):\n",
        "  def __init__(self):\n",
        "    super().__init__()\n",
        "    self.flatten = nn.Flatten()\n",
        "    self.conv_layers = nn.Sequential(\n",
        "      nn.Conv2d(1,32, kernel_size = 3, stride = 1, padding  = 1), # (32,28,28)\n",
        "      nn.ReLU(),\n",
        "      nn.MaxPool2d(2,2), #(32,14,14)\n",
        "\n",
        "      nn.Conv2d(32, 64, kernel_size = 3, stride = 1, padding = 1), #(64,14,14)\n",
        "      nn.ReLU(),\n",
        "      nn.MaxPool2d(2,2), # (64,7,7)\n",
        "    )\n",
        "    self.linear_relu_stack = nn.Sequential(\n",
        "        nn.Linear(64*7*7, 128),\n",
        "        nn.ReLU(),\n",
        "        nn.Linear(128,10),\n",
        "    )\n",
        "\n",
        "  def forward(self,x):\n",
        "    x = self.conv_layers(x)\n",
        "\n",
        "    x = self.flatten(x)\n",
        "\n",
        "    logits = self.linear_relu_stack(x)\n",
        "    return logits\n",
        "\n",
        "model = NeuralNetwork().to(device)\n",
        "print(model)"
      ],
      "metadata": {
        "colab": {
          "base_uri": "https://localhost:8080/"
        },
        "id": "xqMV0_FLR7cK",
        "outputId": "050d6375-0ee4-43ca-fdac-f149557f15e7"
      },
      "execution_count": 5,
      "outputs": [
        {
          "output_type": "stream",
          "name": "stdout",
          "text": [
            "Using device 0\n",
            "NeuralNetwork(\n",
            "  (flatten): Flatten(start_dim=1, end_dim=-1)\n",
            "  (conv_layers): Sequential(\n",
            "    (0): Conv2d(1, 32, kernel_size=(3, 3), stride=(1, 1), padding=(1, 1))\n",
            "    (1): ReLU()\n",
            "    (2): MaxPool2d(kernel_size=2, stride=2, padding=0, dilation=1, ceil_mode=False)\n",
            "    (3): Conv2d(32, 64, kernel_size=(3, 3), stride=(1, 1), padding=(1, 1))\n",
            "    (4): ReLU()\n",
            "    (5): MaxPool2d(kernel_size=2, stride=2, padding=0, dilation=1, ceil_mode=False)\n",
            "  )\n",
            "  (linear_relu_stack): Sequential(\n",
            "    (0): Linear(in_features=3136, out_features=128, bias=True)\n",
            "    (1): ReLU()\n",
            "    (2): Linear(in_features=128, out_features=10, bias=True)\n",
            "  )\n",
            ")\n"
          ]
        }
      ]
    },
    {
      "cell_type": "code",
      "source": [
        "loss_fn = nn.CrossEntropyLoss() # applies softmax as well\n",
        "optimizer = torch.optim.SGD(model.parameters(), lr = 1e-3)\n",
        "\n"
      ],
      "metadata": {
        "id": "uePH7tDPWkzy"
      },
      "execution_count": 10,
      "outputs": []
    },
    {
      "cell_type": "code",
      "source": [
        "def train(dataloader, model, loss_fn, optimizer):\n",
        "  size = len(dataloader.dataset)\n",
        "  model.train()\n",
        "  for batch, (X,y) in enumerate(dataloader):\n",
        "    X,y = X.to(device), y.to(device)\n",
        "\n",
        "    pred = model(X)\n",
        "    loss = loss_fn(pred,y)\n",
        "\n",
        "    loss.backward()\n",
        "    optimizer.step()\n",
        "    optimizer.zero_grad()\n",
        "\n",
        "    if batch % 100 == 0:\n",
        "      loss, current = loss.item(), (batch+1)* len(X)\n",
        "      print(f\"Loss: {loss:>7f}, [{current:>5d},{size:>5d}]\")"
      ],
      "metadata": {
        "id": "K2CWQuL0Wuuy"
      },
      "execution_count": 7,
      "outputs": []
    },
    {
      "cell_type": "code",
      "source": [
        "def test(dataloader,model, loss_fn):\n",
        "  size = len(dataloader.dataset)\n",
        "  num_batches = len(dataloader)\n",
        "  model.eval()\n",
        "  test_loss, correct = 0,0\n",
        "\n",
        "  with torch.no_grad():\n",
        "    for X,y in dataloader:\n",
        "      X,y = X.to(device), y.to(device)\n",
        "      pred = model(X)\n",
        "      test_loss += loss_fn(pred,y).item()\n",
        "      correct += (pred.argmax(1) == y).type(torch.float).sum().item()\n",
        "\n",
        "  test_loss /= num_batches\n",
        "  correct /= size\n",
        "  print(f\"Test Error: \\n Accuracy: {(100*correct):>0.1f}%, Avg loss: {test_loss:>8f} \\n\")"
      ],
      "metadata": {
        "id": "yaGd50YlXl1s"
      },
      "execution_count": 8,
      "outputs": []
    },
    {
      "cell_type": "code",
      "source": [
        "epochs = 15\n",
        "for t in range(epochs):\n",
        "  print(f\"Epoch {t+1}\")\n",
        "  train(train_dataloader, model, loss_fn, optimizer)\n",
        "  test(test_dataloader,model, loss_fn)\n",
        "\n",
        "print(\"Training Completed\")"
      ],
      "metadata": {
        "colab": {
          "base_uri": "https://localhost:8080/"
        },
        "id": "efedkpxdYdED",
        "outputId": "620214bd-7439-42ce-c24c-327956437102"
      },
      "execution_count": 9,
      "outputs": [
        {
          "output_type": "stream",
          "name": "stdout",
          "text": [
            "Epoch 1\n",
            "Loss: 2.292893, [   64,60000]\n",
            "Loss: 2.291082, [ 6464,60000]\n",
            "Loss: 2.281209, [12864,60000]\n",
            "Loss: 2.291517, [19264,60000]\n",
            "Loss: 2.284773, [25664,60000]\n",
            "Loss: 2.267643, [32064,60000]\n",
            "Loss: 2.286208, [38464,60000]\n",
            "Loss: 2.259909, [44864,60000]\n",
            "Loss: 2.258695, [51264,60000]\n",
            "Loss: 2.260773, [57664,60000]\n",
            "Test Error: \n",
            " Accuracy: 34.4%, Avg loss: 2.245662 \n",
            "\n",
            "Epoch 2\n",
            "Loss: 2.240860, [   64,60000]\n",
            "Loss: 2.234904, [ 6464,60000]\n",
            "Loss: 2.209342, [12864,60000]\n",
            "Loss: 2.219578, [19264,60000]\n",
            "Loss: 2.179662, [25664,60000]\n",
            "Loss: 2.165359, [32064,60000]\n",
            "Loss: 2.160740, [38464,60000]\n",
            "Loss: 2.108382, [44864,60000]\n",
            "Loss: 2.084281, [51264,60000]\n",
            "Loss: 2.032320, [57664,60000]\n",
            "Test Error: \n",
            " Accuracy: 59.0%, Avg loss: 2.002615 \n",
            "\n",
            "Epoch 3\n",
            "Loss: 2.017642, [   64,60000]\n",
            "Loss: 1.955471, [ 6464,60000]\n",
            "Loss: 1.821006, [12864,60000]\n",
            "Loss: 1.791782, [19264,60000]\n",
            "Loss: 1.583624, [25664,60000]\n",
            "Loss: 1.547938, [32064,60000]\n",
            "Loss: 1.445332, [38464,60000]\n",
            "Loss: 1.319040, [44864,60000]\n",
            "Loss: 1.303103, [51264,60000]\n",
            "Loss: 1.192606, [57664,60000]\n",
            "Test Error: \n",
            " Accuracy: 64.1%, Avg loss: 1.146830 \n",
            "\n",
            "Epoch 4\n",
            "Loss: 1.230046, [   64,60000]\n",
            "Loss: 1.181811, [ 6464,60000]\n",
            "Loss: 0.957564, [12864,60000]\n",
            "Loss: 1.077474, [19264,60000]\n",
            "Loss: 0.918321, [25664,60000]\n",
            "Loss: 0.963218, [32064,60000]\n",
            "Loss: 0.959795, [38464,60000]\n",
            "Loss: 0.851611, [44864,60000]\n",
            "Loss: 0.933246, [51264,60000]\n",
            "Loss: 0.938431, [57664,60000]\n",
            "Test Error: \n",
            " Accuracy: 69.7%, Avg loss: 0.854158 \n",
            "\n",
            "Epoch 5\n",
            "Loss: 0.879426, [   64,60000]\n",
            "Loss: 0.942048, [ 6464,60000]\n",
            "Loss: 0.683789, [12864,60000]\n",
            "Loss: 0.920743, [19264,60000]\n",
            "Loss: 0.794338, [25664,60000]\n",
            "Loss: 0.807811, [32064,60000]\n",
            "Loss: 0.840860, [38464,60000]\n",
            "Loss: 0.730087, [44864,60000]\n",
            "Loss: 0.815937, [51264,60000]\n",
            "Loss: 0.861904, [57664,60000]\n",
            "Test Error: \n",
            " Accuracy: 72.5%, Avg loss: 0.758418 \n",
            "\n",
            "Epoch 6\n",
            "Loss: 0.739810, [   64,60000]\n",
            "Loss: 0.840096, [ 6464,60000]\n",
            "Loss: 0.582223, [12864,60000]\n",
            "Loss: 0.848837, [19264,60000]\n",
            "Loss: 0.732175, [25664,60000]\n",
            "Loss: 0.743867, [32064,60000]\n",
            "Loss: 0.784914, [38464,60000]\n",
            "Loss: 0.680794, [44864,60000]\n",
            "Loss: 0.756827, [51264,60000]\n",
            "Loss: 0.812107, [57664,60000]\n",
            "Test Error: \n",
            " Accuracy: 74.5%, Avg loss: 0.707366 \n",
            "\n",
            "Epoch 7\n",
            "Loss: 0.663274, [   64,60000]\n",
            "Loss: 0.776146, [ 6464,60000]\n",
            "Loss: 0.530946, [12864,60000]\n",
            "Loss: 0.799946, [19264,60000]\n",
            "Loss: 0.686419, [25664,60000]\n",
            "Loss: 0.709572, [32064,60000]\n",
            "Loss: 0.746729, [38464,60000]\n",
            "Loss: 0.651223, [44864,60000]\n",
            "Loss: 0.724270, [51264,60000]\n",
            "Loss: 0.774345, [57664,60000]\n",
            "Test Error: \n",
            " Accuracy: 76.0%, Avg loss: 0.673811 \n",
            "\n",
            "Epoch 8\n",
            "Loss: 0.612664, [   64,60000]\n",
            "Loss: 0.732217, [ 6464,60000]\n",
            "Loss: 0.495447, [12864,60000]\n",
            "Loss: 0.765034, [19264,60000]\n",
            "Loss: 0.651501, [25664,60000]\n",
            "Loss: 0.690705, [32064,60000]\n",
            "Loss: 0.713604, [38464,60000]\n",
            "Loss: 0.628414, [44864,60000]\n",
            "Loss: 0.704469, [51264,60000]\n",
            "Loss: 0.743363, [57664,60000]\n",
            "Test Error: \n",
            " Accuracy: 76.6%, Avg loss: 0.649362 \n",
            "\n",
            "Epoch 9\n",
            "Loss: 0.574983, [   64,60000]\n",
            "Loss: 0.698836, [ 6464,60000]\n",
            "Loss: 0.469014, [12864,60000]\n",
            "Loss: 0.738636, [19264,60000]\n",
            "Loss: 0.625476, [25664,60000]\n",
            "Loss: 0.678957, [32064,60000]\n",
            "Loss: 0.687157, [38464,60000]\n",
            "Loss: 0.610980, [44864,60000]\n",
            "Loss: 0.692875, [51264,60000]\n",
            "Loss: 0.716289, [57664,60000]\n",
            "Test Error: \n",
            " Accuracy: 77.0%, Avg loss: 0.630493 \n",
            "\n",
            "Epoch 10\n",
            "Loss: 0.545777, [   64,60000]\n",
            "Loss: 0.671614, [ 6464,60000]\n",
            "Loss: 0.448128, [12864,60000]\n",
            "Loss: 0.717353, [19264,60000]\n",
            "Loss: 0.606086, [25664,60000]\n",
            "Loss: 0.670783, [32064,60000]\n",
            "Loss: 0.664701, [38464,60000]\n",
            "Loss: 0.596904, [44864,60000]\n",
            "Loss: 0.685330, [51264,60000]\n",
            "Loss: 0.692483, [57664,60000]\n",
            "Test Error: \n",
            " Accuracy: 77.6%, Avg loss: 0.615059 \n",
            "\n",
            "Epoch 11\n",
            "Loss: 0.521872, [   64,60000]\n",
            "Loss: 0.647319, [ 6464,60000]\n",
            "Loss: 0.430903, [12864,60000]\n",
            "Loss: 0.701182, [19264,60000]\n",
            "Loss: 0.591325, [25664,60000]\n",
            "Loss: 0.663223, [32064,60000]\n",
            "Loss: 0.643939, [38464,60000]\n",
            "Loss: 0.585946, [44864,60000]\n",
            "Loss: 0.680165, [51264,60000]\n",
            "Loss: 0.670823, [57664,60000]\n",
            "Test Error: \n",
            " Accuracy: 78.1%, Avg loss: 0.601735 \n",
            "\n",
            "Epoch 12\n",
            "Loss: 0.501953, [   64,60000]\n",
            "Loss: 0.626816, [ 6464,60000]\n",
            "Loss: 0.417228, [12864,60000]\n",
            "Loss: 0.687168, [19264,60000]\n",
            "Loss: 0.578238, [25664,60000]\n",
            "Loss: 0.654707, [32064,60000]\n",
            "Loss: 0.624851, [38464,60000]\n",
            "Loss: 0.578255, [44864,60000]\n",
            "Loss: 0.676468, [51264,60000]\n",
            "Loss: 0.651055, [57664,60000]\n",
            "Test Error: \n",
            " Accuracy: 78.7%, Avg loss: 0.589877 \n",
            "\n",
            "Epoch 13\n",
            "Loss: 0.483887, [   64,60000]\n",
            "Loss: 0.608497, [ 6464,60000]\n",
            "Loss: 0.405108, [12864,60000]\n",
            "Loss: 0.674683, [19264,60000]\n",
            "Loss: 0.566423, [25664,60000]\n",
            "Loss: 0.645799, [32064,60000]\n",
            "Loss: 0.606496, [38464,60000]\n",
            "Loss: 0.571927, [44864,60000]\n",
            "Loss: 0.673775, [51264,60000]\n",
            "Loss: 0.632660, [57664,60000]\n",
            "Test Error: \n",
            " Accuracy: 79.0%, Avg loss: 0.578980 \n",
            "\n",
            "Epoch 14\n",
            "Loss: 0.468294, [   64,60000]\n",
            "Loss: 0.592663, [ 6464,60000]\n",
            "Loss: 0.393623, [12864,60000]\n",
            "Loss: 0.663237, [19264,60000]\n",
            "Loss: 0.555922, [25664,60000]\n",
            "Loss: 0.636306, [32064,60000]\n",
            "Loss: 0.589696, [38464,60000]\n",
            "Loss: 0.567447, [44864,60000]\n",
            "Loss: 0.671457, [51264,60000]\n",
            "Loss: 0.615938, [57664,60000]\n",
            "Test Error: \n",
            " Accuracy: 79.3%, Avg loss: 0.568805 \n",
            "\n",
            "Epoch 15\n",
            "Loss: 0.454046, [   64,60000]\n",
            "Loss: 0.579480, [ 6464,60000]\n",
            "Loss: 0.383060, [12864,60000]\n",
            "Loss: 0.651770, [19264,60000]\n",
            "Loss: 0.546884, [25664,60000]\n",
            "Loss: 0.626081, [32064,60000]\n",
            "Loss: 0.572758, [38464,60000]\n",
            "Loss: 0.562502, [44864,60000]\n",
            "Loss: 0.669497, [51264,60000]\n",
            "Loss: 0.600146, [57664,60000]\n",
            "Test Error: \n",
            " Accuracy: 79.6%, Avg loss: 0.559142 \n",
            "\n",
            "Training Completed\n"
          ]
        }
      ]
    },
    {
      "cell_type": "code",
      "source": [
        "classes = [\n",
        "    \"T-shirt/top\",\n",
        "    \"Trouser\",\n",
        "    \"Pullover\",\n",
        "    \"Dress\",\n",
        "    \"Coat\",\n",
        "    \"Sandal\",\n",
        "    \"Shirt\",\n",
        "    \"Sneaker\",\n",
        "    \"Bag\",\n",
        "    \"Ankle boot\",\n",
        "]\n",
        "\n",
        "model.eval()\n",
        "x, y = test_data[0][0], test_data[0][1]\n",
        "with torch.no_grad():\n",
        "    x = x.unsqueeze(0).to(device) # (1,28,28) -> (1,1,28,28), add a new dim at index 0, cause model expects a batch dimension as well.\n",
        "    pred = model(x)\n",
        "    predicted, actual = classes[pred[0].argmax(0)], classes[y]\n",
        "    print(f'Predicted: \"{predicted}\", Actual: \"{actual}\"')"
      ],
      "metadata": {
        "colab": {
          "base_uri": "https://localhost:8080/"
        },
        "id": "seIDulRyIOS7",
        "outputId": "894042ce-b9d8-4028-fed7-8e2a038117c3"
      },
      "execution_count": 12,
      "outputs": [
        {
          "output_type": "stream",
          "name": "stdout",
          "text": [
            "Predicted: \"Ankle boot\", Actual: \"Ankle boot\"\n"
          ]
        }
      ]
    }
  ]
}